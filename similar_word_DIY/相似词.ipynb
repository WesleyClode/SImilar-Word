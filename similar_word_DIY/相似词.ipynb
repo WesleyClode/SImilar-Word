{
 "cells": [
  {
   "cell_type": "code",
   "execution_count": 4,
   "metadata": {},
   "outputs": [],
   "source": [
    "import pandas as pd\n",
    "import openpyxl"
   ]
  },
  {
   "cell_type": "code",
   "execution_count": 16,
   "metadata": {},
   "outputs": [],
   "source": [
    "wb = openpyxl.load_workbook('keyword.xlsx')\n",
    "ws = wb['Sheet1']"
   ]
  },
  {
   "cell_type": "code",
   "execution_count": 15,
   "metadata": {},
   "outputs": [
    {
     "name": "stdout",
     "output_type": "stream",
     "text": [
      "Sheet1 77 2\n",
      "3 1 A3 退市\n"
     ]
    }
   ],
   "source": [
    "sheets = wb.worksheets\n",
    "ws = wb['Sheet1']\n",
    "print(ws.title, ws.max_row, ws.max_column)\n",
    "ws.cell(3, 2)\n",
    "cell = ws.cell(3, 1)\n",
    "print(cell.row, cell.column, cell.coordinate, cell.value)"
   ]
  },
  {
   "cell_type": "code",
   "execution_count": 17,
   "metadata": {},
   "outputs": [],
   "source": [
    "rows = ws.max_row"
   ]
  },
  {
   "cell_type": "code",
   "execution_count": 22,
   "metadata": {},
   "outputs": [
    {
     "name": "stdout",
     "output_type": "stream",
     "text": [
      "1\n",
      "2\n",
      "3\n",
      "4\n",
      "5\n",
      "6\n",
      "7\n",
      "8\n",
      "9\n",
      "10\n",
      "11\n",
      "12\n",
      "13\n",
      "14\n",
      "15\n",
      "16\n",
      "17\n",
      "18\n",
      "19\n",
      "20\n",
      "21\n",
      "22\n",
      "23\n",
      "24\n",
      "25\n",
      "26\n",
      "27\n",
      "28\n",
      "29\n",
      "30\n",
      "31\n",
      "32\n",
      "33\n",
      "34\n",
      "35\n",
      "36\n",
      "37\n",
      "38\n",
      "39\n",
      "40\n",
      "41\n",
      "42\n",
      "43\n",
      "44\n",
      "45\n",
      "46\n",
      "47\n",
      "48\n",
      "49\n",
      "50\n",
      "51\n",
      "52\n",
      "53\n",
      "54\n",
      "55\n",
      "56\n",
      "57\n",
      "58\n",
      "59\n",
      "60\n",
      "61\n",
      "62\n",
      "63\n",
      "64\n",
      "65\n",
      "66\n",
      "67\n",
      "68\n",
      "69\n",
      "70\n",
      "71\n",
      "72\n",
      "73\n",
      "74\n",
      "75\n",
      "76\n",
      "77\n"
     ]
    },
    {
     "data": {
      "text/plain": [
       "'自由现金流'"
      ]
     },
     "execution_count": 22,
     "metadata": {},
     "output_type": "execute_result"
    }
   ],
   "source": [
    "rows = ws.max_row\n",
    "exist = []\n",
    "for row in range (1,rows+1):\n",
    "    target = str(ws.cell(row, 1).value)\n",
    "    similar_words = model.most_similar([target], topn=20)\n",
    "    num = 0\n",
    "    write_line = []\n",
    "    for word in similar_words:\n",
    "        if word in exist:\n",
    "            continue\n",
    "        else:\n",
    "            exist.append(word)\n",
    "            write_line.append(word)\n",
    "            num = num + 1\n",
    "        if num = 4:\n",
    "            break\n",
    "    for col in range(1,5):\n",
    "        ws.cell(row, col) = write_line[col-1]\n",
    "wb.save('keyword.xlsx')"
   ]
  },
  {
   "cell_type": "code",
   "execution_count": null,
   "metadata": {},
   "outputs": [],
   "source": [
    "# 获取工作薄所有的sheet，返回list\n",
    "sheets = wb.worksheets\n",
    "# 获取指定sheet页\n",
    "ws = wb['标记数据']\n",
    "ws = wb.worksheets[0]\n",
    "# 获取当前正在使用的sheet页\n",
    "ws = wb.active\n",
    "# sheet页属性：表名、最大行数、最大列数\n",
    "print(ws.title, ws.max_row, ws.max_column)\n",
    "# 修改sheet名\n",
    "ws.title = '标记数据2'\n",
    "# 删除sheet页\n",
    "wb.remove(ws)\n",
    "del wb['标记数据']\n",
    "# 新建sheet页（可以插入到指定的索引处）\n",
    "wb.create_sheet('test1', 0)"
   ]
  },
  {
   "cell_type": "code",
   "execution_count": null,
   "metadata": {},
   "outputs": [],
   "source": [
    "# 获取行和列，返回tuple\n",
    "ws[1]\n",
    "ws['A']\n",
    "# 对行或列切片，返回tuple\n",
    "ws[2:4]\n",
    "ws['A:D']\n",
    "# 获取所有行或列，返回generator\n",
    "rows = ws.rows\n",
    "columns = ws.columns\n",
    "for row in rows:\n",
    "    for i in row:\n",
    "        print(i.value)\n",
    "\n",
    "# 添加一行值（添加多行值直接循环添加即可）\n",
    "ws.append(['人民法院', '故意伤害罪', '89f01654', 5])\n",
    "# 添加一列值（添加多列值只需将s改为多层list嵌套，其中每一个list为一列）\n",
    "s = [['NAME', 'Make', 'Tom', 'Smith', 'Suixin']]\n",
    "for i in zip(*s):\n",
    "    ws.append(i)"
   ]
  },
  {
   "cell_type": "code",
   "execution_count": null,
   "metadata": {},
   "outputs": [],
   "source": [
    "# 读取cell\n",
    "cell = ws['B3']\n",
    "cell = ws.cell(3, 2)  # 先行坐标后列坐标（均从1开始）\n",
    "# cell属性：所在行、列、坐标、值\n",
    "print(cell.row, cell.column, cell.coordinate, cell.value)\n",
    "# 写入cell\n",
    "cell.value = 'NAME'\n",
    "ws['B3'] = 'hello'"
   ]
  }
 ],
 "metadata": {
  "kernelspec": {
   "display_name": "Python 3",
   "language": "python",
   "name": "python3"
  },
  "language_info": {
   "codemirror_mode": {
    "name": "ipython",
    "version": 3
   },
   "file_extension": ".py",
   "mimetype": "text/x-python",
   "name": "python",
   "nbconvert_exporter": "python",
   "pygments_lexer": "ipython3",
   "version": "3.8.3"
  }
 },
 "nbformat": 4,
 "nbformat_minor": 4
}
